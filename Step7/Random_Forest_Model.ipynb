{
 "cells": [
  {
   "cell_type": "markdown",
   "id": "9b8f697f",
   "metadata": {},
   "source": [
    "### Imports and Preprocessing"
   ]
  },
  {
   "cell_type": "code",
   "execution_count": 1,
   "id": "ff950dd5",
   "metadata": {},
   "outputs": [],
   "source": [
    "import pandas as pd\n",
    "import numpy as np\n",
    "from sklearn.ensemble import RandomForestClassifier\n",
    "from sklearn.metrics import classification_report, accuracy_score\n",
    "from sklearn.model_selection import train_test_split\n",
    "from sklearn.model_selection import RandomizedSearchCV\n",
    "from sklearn.preprocessing import LabelEncoder\n",
    "import matplotlib.pyplot as plt\n",
    "\n",
    "train_data = pd.read_csv('TrainTable.csv')\n",
    "test_data = pd.read_csv('TestTable.csv')"
   ]
  },
  {
   "cell_type": "code",
   "execution_count": 2,
   "id": "f63a2a1b",
   "metadata": {},
   "outputs": [
    {
     "data": {
      "text/html": [
       "<div>\n",
       "<style scoped>\n",
       "    .dataframe tbody tr th:only-of-type {\n",
       "        vertical-align: middle;\n",
       "    }\n",
       "\n",
       "    .dataframe tbody tr th {\n",
       "        vertical-align: top;\n",
       "    }\n",
       "\n",
       "    .dataframe thead th {\n",
       "        text-align: right;\n",
       "    }\n",
       "</style>\n",
       "<table border=\"1\" class=\"dataframe\">\n",
       "  <thead>\n",
       "    <tr style=\"text-align: right;\">\n",
       "      <th></th>\n",
       "      <th>head</th>\n",
       "      <th>left_shoulder</th>\n",
       "      <th>right_shoulder</th>\n",
       "      <th>left_elbow</th>\n",
       "      <th>right_elbow</th>\n",
       "      <th>left_wrist</th>\n",
       "      <th>right_wrist</th>\n",
       "      <th>left_hip</th>\n",
       "      <th>right_hip</th>\n",
       "      <th>left_knee</th>\n",
       "      <th>right_knee</th>\n",
       "      <th>left_ankle</th>\n",
       "      <th>right_ankle</th>\n",
       "      <th>action</th>\n",
       "    </tr>\n",
       "  </thead>\n",
       "  <tbody>\n",
       "    <tr>\n",
       "      <th>0</th>\n",
       "      <td>['48.0', '52.0', '1']</td>\n",
       "      <td>['25.333333333333332', '80.66666666666666', '1']</td>\n",
       "      <td>['68.0', '72.66666666666666', '0']</td>\n",
       "      <td>['36.0', '106.0', '1']</td>\n",
       "      <td>['83.33333333333333', '108.0', '1']</td>\n",
       "      <td>['64.66666666666666', '81.33333333333333', '1']</td>\n",
       "      <td>['81.33333333333333', '81.33333333333333', '1']</td>\n",
       "      <td>['36.0', '140.0', '1']</td>\n",
       "      <td>['67.33333333333333', '150.0', '1']</td>\n",
       "      <td>['48.666666666666664', '202.0', '1']</td>\n",
       "      <td>['67.33333333333333', '200.0', '1']</td>\n",
       "      <td>['28.0', '260.0', '1']</td>\n",
       "      <td>['69.33333333333333', '247.33333333333331', '1']</td>\n",
       "      <td>baseball_pitch</td>\n",
       "    </tr>\n",
       "    <tr>\n",
       "      <th>1</th>\n",
       "      <td>['178.0', '38.0', '1']</td>\n",
       "      <td>['153.33333333333331', '62.0', '1']</td>\n",
       "      <td>['193.33333333333331', '61.33333333333333', '1']</td>\n",
       "      <td>['140.66666666666666', '94.0', '1']</td>\n",
       "      <td>['202.0', '94.66666666666666', '1']</td>\n",
       "      <td>['155.33333333333331', '80.66666666666666', '1']</td>\n",
       "      <td>['175.33333333333331', '77.33333333333333', '1']</td>\n",
       "      <td>['158.66666666666666', '112.66666666666666', '1']</td>\n",
       "      <td>['191.33333333333331', '119.33333333333333', '1']</td>\n",
       "      <td>['158.66666666666666', '171.33333333333331', '1']</td>\n",
       "      <td>['193.33333333333331', '172.66666666666666', '1']</td>\n",
       "      <td>['202.66666666666666', '219.33333333333331', '1']</td>\n",
       "      <td>['150.0', '215.33333333333331', '1']</td>\n",
       "      <td>baseball_pitch</td>\n",
       "    </tr>\n",
       "    <tr>\n",
       "      <th>2</th>\n",
       "      <td>['192.0', '36.0', '1']</td>\n",
       "      <td>['176.0', '70.66666666666666', '0']</td>\n",
       "      <td>['205.33333333333331', '64.0', '1']</td>\n",
       "      <td>['168.0', '97.33333333333333', '1']</td>\n",
       "      <td>['192.66666666666666', '96.66666666666666', '1']</td>\n",
       "      <td>['142.66666666666666', '79.33333333333333', '0']</td>\n",
       "      <td>['162.66666666666666', '80.66666666666666', '1']</td>\n",
       "      <td>['171.33333333333331', '130.0', '0']</td>\n",
       "      <td>['203.33333333333331', '130.0', '1']</td>\n",
       "      <td>['177.33333333333331', '173.33333333333331', '0']</td>\n",
       "      <td>['201.33333333333331', '176.0', '1']</td>\n",
       "      <td>['190.66666666666666', '225.33333333333331', '0']</td>\n",
       "      <td>['214.66666666666666', '236.66666666666666', '1']</td>\n",
       "      <td>baseball_pitch</td>\n",
       "    </tr>\n",
       "  </tbody>\n",
       "</table>\n",
       "</div>"
      ],
      "text/plain": [
       "                     head                                     left_shoulder  \\\n",
       "0   ['48.0', '52.0', '1']  ['25.333333333333332', '80.66666666666666', '1']   \n",
       "1  ['178.0', '38.0', '1']               ['153.33333333333331', '62.0', '1']   \n",
       "2  ['192.0', '36.0', '1']               ['176.0', '70.66666666666666', '0']   \n",
       "\n",
       "                                     right_shoulder  \\\n",
       "0                ['68.0', '72.66666666666666', '0']   \n",
       "1  ['193.33333333333331', '61.33333333333333', '1']   \n",
       "2               ['205.33333333333331', '64.0', '1']   \n",
       "\n",
       "                            left_elbow  \\\n",
       "0               ['36.0', '106.0', '1']   \n",
       "1  ['140.66666666666666', '94.0', '1']   \n",
       "2  ['168.0', '97.33333333333333', '1']   \n",
       "\n",
       "                                        right_elbow  \\\n",
       "0               ['83.33333333333333', '108.0', '1']   \n",
       "1               ['202.0', '94.66666666666666', '1']   \n",
       "2  ['192.66666666666666', '96.66666666666666', '1']   \n",
       "\n",
       "                                         left_wrist  \\\n",
       "0   ['64.66666666666666', '81.33333333333333', '1']   \n",
       "1  ['155.33333333333331', '80.66666666666666', '1']   \n",
       "2  ['142.66666666666666', '79.33333333333333', '0']   \n",
       "\n",
       "                                        right_wrist  \\\n",
       "0   ['81.33333333333333', '81.33333333333333', '1']   \n",
       "1  ['175.33333333333331', '77.33333333333333', '1']   \n",
       "2  ['162.66666666666666', '80.66666666666666', '1']   \n",
       "\n",
       "                                            left_hip  \\\n",
       "0                             ['36.0', '140.0', '1']   \n",
       "1  ['158.66666666666666', '112.66666666666666', '1']   \n",
       "2               ['171.33333333333331', '130.0', '0']   \n",
       "\n",
       "                                           right_hip  \\\n",
       "0                ['67.33333333333333', '150.0', '1']   \n",
       "1  ['191.33333333333331', '119.33333333333333', '1']   \n",
       "2               ['203.33333333333331', '130.0', '1']   \n",
       "\n",
       "                                           left_knee  \\\n",
       "0               ['48.666666666666664', '202.0', '1']   \n",
       "1  ['158.66666666666666', '171.33333333333331', '1']   \n",
       "2  ['177.33333333333331', '173.33333333333331', '0']   \n",
       "\n",
       "                                          right_knee  \\\n",
       "0                ['67.33333333333333', '200.0', '1']   \n",
       "1  ['193.33333333333331', '172.66666666666666', '1']   \n",
       "2               ['201.33333333333331', '176.0', '1']   \n",
       "\n",
       "                                          left_ankle  \\\n",
       "0                             ['28.0', '260.0', '1']   \n",
       "1  ['202.66666666666666', '219.33333333333331', '1']   \n",
       "2  ['190.66666666666666', '225.33333333333331', '0']   \n",
       "\n",
       "                                         right_ankle          action  \n",
       "0   ['69.33333333333333', '247.33333333333331', '1']  baseball_pitch  \n",
       "1               ['150.0', '215.33333333333331', '1']  baseball_pitch  \n",
       "2  ['214.66666666666666', '236.66666666666666', '1']  baseball_pitch  "
      ]
     },
     "execution_count": 2,
     "metadata": {},
     "output_type": "execute_result"
    }
   ],
   "source": [
    "train_data.head(3)"
   ]
  },
  {
   "cell_type": "code",
   "execution_count": 3,
   "id": "5ff62b78",
   "metadata": {},
   "outputs": [],
   "source": [
    "#extracting coordinates from array into their own columns\n",
    "\n",
    "def extract_coordinates(data):\n",
    "    coordinates = []\n",
    "    for col in data.columns[:-1]:  \n",
    "        data[col] = data[col].apply(eval)\n",
    "        data[f'{col}_x'] = data[col].apply(lambda x: x[0] if len(x) > 0 else 0)\n",
    "        data[f'{col}_y'] = data[col].apply(lambda x: x[1] if len(x) > 0 else 0)\n",
    "        data[f'{col}_visible'] = data[col].apply(lambda x: x[2] if len(x) > 2 else 0)\n",
    "        coordinates.extend([f'{col}_x', f'{col}_y', f'{col}_visible'])\n",
    "    return data[coordinates]"
   ]
  },
  {
   "cell_type": "code",
   "execution_count": 4,
   "id": "6fd777ff",
   "metadata": {},
   "outputs": [
    {
     "data": {
      "text/html": [
       "<div>\n",
       "<style scoped>\n",
       "    .dataframe tbody tr th:only-of-type {\n",
       "        vertical-align: middle;\n",
       "    }\n",
       "\n",
       "    .dataframe tbody tr th {\n",
       "        vertical-align: top;\n",
       "    }\n",
       "\n",
       "    .dataframe thead th {\n",
       "        text-align: right;\n",
       "    }\n",
       "</style>\n",
       "<table border=\"1\" class=\"dataframe\">\n",
       "  <thead>\n",
       "    <tr style=\"text-align: right;\">\n",
       "      <th></th>\n",
       "      <th>head_x</th>\n",
       "      <th>head_y</th>\n",
       "      <th>head_visible</th>\n",
       "      <th>left_shoulder_x</th>\n",
       "      <th>left_shoulder_y</th>\n",
       "      <th>left_shoulder_visible</th>\n",
       "      <th>right_shoulder_x</th>\n",
       "      <th>right_shoulder_y</th>\n",
       "      <th>right_shoulder_visible</th>\n",
       "      <th>left_elbow_x</th>\n",
       "      <th>...</th>\n",
       "      <th>left_knee_visible</th>\n",
       "      <th>right_knee_x</th>\n",
       "      <th>right_knee_y</th>\n",
       "      <th>right_knee_visible</th>\n",
       "      <th>left_ankle_x</th>\n",
       "      <th>left_ankle_y</th>\n",
       "      <th>left_ankle_visible</th>\n",
       "      <th>right_ankle_x</th>\n",
       "      <th>right_ankle_y</th>\n",
       "      <th>right_ankle_visible</th>\n",
       "    </tr>\n",
       "  </thead>\n",
       "  <tbody>\n",
       "    <tr>\n",
       "      <th>0</th>\n",
       "      <td>48.0</td>\n",
       "      <td>52.0</td>\n",
       "      <td>1</td>\n",
       "      <td>25.333333333333332</td>\n",
       "      <td>80.66666666666666</td>\n",
       "      <td>1</td>\n",
       "      <td>68.0</td>\n",
       "      <td>72.66666666666666</td>\n",
       "      <td>0</td>\n",
       "      <td>36.0</td>\n",
       "      <td>...</td>\n",
       "      <td>1</td>\n",
       "      <td>67.33333333333333</td>\n",
       "      <td>200.0</td>\n",
       "      <td>1</td>\n",
       "      <td>28.0</td>\n",
       "      <td>260.0</td>\n",
       "      <td>1</td>\n",
       "      <td>69.33333333333333</td>\n",
       "      <td>247.33333333333331</td>\n",
       "      <td>1</td>\n",
       "    </tr>\n",
       "    <tr>\n",
       "      <th>1</th>\n",
       "      <td>178.0</td>\n",
       "      <td>38.0</td>\n",
       "      <td>1</td>\n",
       "      <td>153.33333333333331</td>\n",
       "      <td>62.0</td>\n",
       "      <td>1</td>\n",
       "      <td>193.33333333333331</td>\n",
       "      <td>61.33333333333333</td>\n",
       "      <td>1</td>\n",
       "      <td>140.66666666666666</td>\n",
       "      <td>...</td>\n",
       "      <td>1</td>\n",
       "      <td>193.33333333333331</td>\n",
       "      <td>172.66666666666666</td>\n",
       "      <td>1</td>\n",
       "      <td>202.66666666666666</td>\n",
       "      <td>219.33333333333331</td>\n",
       "      <td>1</td>\n",
       "      <td>150.0</td>\n",
       "      <td>215.33333333333331</td>\n",
       "      <td>1</td>\n",
       "    </tr>\n",
       "    <tr>\n",
       "      <th>2</th>\n",
       "      <td>192.0</td>\n",
       "      <td>36.0</td>\n",
       "      <td>1</td>\n",
       "      <td>176.0</td>\n",
       "      <td>70.66666666666666</td>\n",
       "      <td>0</td>\n",
       "      <td>205.33333333333331</td>\n",
       "      <td>64.0</td>\n",
       "      <td>1</td>\n",
       "      <td>168.0</td>\n",
       "      <td>...</td>\n",
       "      <td>0</td>\n",
       "      <td>201.33333333333331</td>\n",
       "      <td>176.0</td>\n",
       "      <td>1</td>\n",
       "      <td>190.66666666666666</td>\n",
       "      <td>225.33333333333331</td>\n",
       "      <td>0</td>\n",
       "      <td>214.66666666666666</td>\n",
       "      <td>236.66666666666666</td>\n",
       "      <td>1</td>\n",
       "    </tr>\n",
       "  </tbody>\n",
       "</table>\n",
       "<p>3 rows × 39 columns</p>\n",
       "</div>"
      ],
      "text/plain": [
       "  head_x head_y head_visible     left_shoulder_x    left_shoulder_y  \\\n",
       "0   48.0   52.0            1  25.333333333333332  80.66666666666666   \n",
       "1  178.0   38.0            1  153.33333333333331               62.0   \n",
       "2  192.0   36.0            1               176.0  70.66666666666666   \n",
       "\n",
       "  left_shoulder_visible    right_shoulder_x   right_shoulder_y  \\\n",
       "0                     1                68.0  72.66666666666666   \n",
       "1                     1  193.33333333333331  61.33333333333333   \n",
       "2                     0  205.33333333333331               64.0   \n",
       "\n",
       "  right_shoulder_visible        left_elbow_x  ... left_knee_visible  \\\n",
       "0                      0                36.0  ...                 1   \n",
       "1                      1  140.66666666666666  ...                 1   \n",
       "2                      1               168.0  ...                 0   \n",
       "\n",
       "         right_knee_x        right_knee_y right_knee_visible  \\\n",
       "0   67.33333333333333               200.0                  1   \n",
       "1  193.33333333333331  172.66666666666666                  1   \n",
       "2  201.33333333333331               176.0                  1   \n",
       "\n",
       "         left_ankle_x        left_ankle_y left_ankle_visible  \\\n",
       "0                28.0               260.0                  1   \n",
       "1  202.66666666666666  219.33333333333331                  1   \n",
       "2  190.66666666666666  225.33333333333331                  0   \n",
       "\n",
       "        right_ankle_x       right_ankle_y right_ankle_visible  \n",
       "0   69.33333333333333  247.33333333333331                   1  \n",
       "1               150.0  215.33333333333331                   1  \n",
       "2  214.66666666666666  236.66666666666666                   1  \n",
       "\n",
       "[3 rows x 39 columns]"
      ]
     },
     "execution_count": 4,
     "metadata": {},
     "output_type": "execute_result"
    }
   ],
   "source": [
    "X_train = extract_coordinates(train_data)\n",
    "X_test = extract_coordinates(test_data)\n",
    "X_train.head(3)"
   ]
  },
  {
   "cell_type": "code",
   "execution_count": 5,
   "id": "b8e47b29",
   "metadata": {},
   "outputs": [],
   "source": [
    "#action labels\n",
    "label_encoder = LabelEncoder()\n",
    "y_train = label_encoder.fit_transform(train_data['action'])\n",
    "y_test = label_encoder.transform(test_data['action'])"
   ]
  },
  {
   "cell_type": "code",
   "execution_count": 6,
   "id": "8488a66c",
   "metadata": {},
   "outputs": [
    {
     "data": {
      "text/plain": [
       "(array([125., 130., 105., 165.,  66., 124.,  62.,  84., 149., 158.,  75.,\n",
       "        173.,  71., 118., 139.]),\n",
       " array([ 0.        ,  0.93333333,  1.86666667,  2.8       ,  3.73333333,\n",
       "         4.66666667,  5.6       ,  6.53333333,  7.46666667,  8.4       ,\n",
       "         9.33333333, 10.26666667, 11.2       , 12.13333333, 13.06666667,\n",
       "        14.        ]),\n",
       " <BarContainer object of 15 artists>)"
      ]
     },
     "execution_count": 6,
     "metadata": {},
     "output_type": "execute_result"
    },
    {
     "data": {
      "image/png": "[encoded data removed]",
      "text/plain": [
       "<Figure size 432x288 with 1 Axes>"
      ]
     },
     "metadata": {
      "needs_background": "light"
     },
     "output_type": "display_data"
    }
   ],
   "source": [
    "#label distribution\n",
    "plt.hist(y_train, bins=15)"
   ]
  },
  {
   "cell_type": "markdown",
   "id": "36edf810",
   "metadata": {},
   "source": [
    "### Model 1. Training a base model on a random n_estimators at first just to see"
   ]
  },
  {
   "cell_type": "code",
   "execution_count": 7,
   "id": "bf2a1ac9",
   "metadata": {},
   "outputs": [
    {
     "name": "stdout",
     "output_type": "stream",
     "text": [
      "Accuracy: 0.8213058419243986\n",
      "Classification Report:\n",
      "                 precision    recall  f1-score   support\n",
      "\n",
      " baseball_pitch       0.71      0.57      0.63        42\n",
      " baseball_swing       0.75      0.84      0.79        43\n",
      "    bench_press       0.91      0.89      0.90        35\n",
      "           bowl       0.91      0.93      0.92        55\n",
      " clean_and_jerk       0.89      0.77      0.83        22\n",
      "     golf_swing       0.78      0.76      0.77        42\n",
      "      jump_rope       0.83      0.75      0.79        20\n",
      "  jumping_jacks       0.76      0.93      0.84        28\n",
      "         pullup       0.92      0.92      0.92        50\n",
      "         pushup       0.98      0.96      0.97        53\n",
      "          situp       0.96      0.92      0.94        25\n",
      "          squat       0.88      0.90      0.89        58\n",
      "   strum_guitar       0.96      0.96      0.96        23\n",
      "tennis_forehand       0.60      0.54      0.57        39\n",
      "   tennis_serve       0.56      0.66      0.61        47\n",
      "\n",
      "       accuracy                           0.82       582\n",
      "      macro avg       0.83      0.82      0.82       582\n",
      "   weighted avg       0.82      0.82      0.82       582\n",
      "\n"
     ]
    }
   ],
   "source": [
    "#initialize and train the classifier\n",
    "rf1 = RandomForestClassifier(n_estimators=400, random_state=37)\n",
    "rf1.fit(X_train, y_train)\n",
    "\n",
    "#make predictions\n",
    "y_pred = rf1.predict(X_test)\n",
    "\n",
    "#evaluation metrics\n",
    "print(\"Accuracy:\", accuracy_score(y_test, y_pred))\n",
    "print(\"Classification Report:\")\n",
    "print(classification_report(y_test, y_pred, target_names=label_encoder.classes_))"
   ]
  },
  {
   "cell_type": "markdown",
   "id": "6c3f3754",
   "metadata": {},
   "source": [
    "### Model 2. Optimal n_estimators for max accuracy"
   ]
  },
  {
   "cell_type": "code",
   "execution_count": 8,
   "id": "9138bb64",
   "metadata": {},
   "outputs": [
    {
     "data": {
      "image/png": "[encoded data removed]",
      "text/plain": [
       "<Figure size 720x432 with 1 Axes>"
      ]
     },
     "metadata": {
      "needs_background": "light"
     },
     "output_type": "display_data"
    }
   ],
   "source": [
    "#define the range of n_estimators to test\n",
    "n_estimators_range = range(50, 1550, 100)\n",
    "accuracies = []\n",
    "best_accuracy = 0\n",
    "best_n = 0\n",
    "best_y_pred = None #store best preditctions\n",
    "\n",
    "for n in n_estimators_range:\n",
    "    \n",
    "    rf2 = RandomForestClassifier(n_estimators=n, random_state=37)\n",
    "    rf2.fit(X_train, y_train)\n",
    "    \n",
    "    y_pred = rf2.predict(X_test)\n",
    "    accuracy = accuracy_score(y_test, y_pred)\n",
    "    accuracies.append(accuracy)\n",
    "    \n",
    "    #check if this is the best accuracy so far\n",
    "    if accuracy > best_accuracy:\n",
    "        best_accuracy = accuracy\n",
    "        best_n = n\n",
    "        best_y_pred = y_pred\n",
    "\n",
    "\n",
    "plt.figure(figsize=(10, 6))\n",
    "plt.plot(n_estimators_range, accuracies, marker='o')\n",
    "plt.xlabel(\"Number of Estimators (n_estimators)\")\n",
    "plt.ylabel(\"Accuracy\")\n",
    "plt.title(\"Accuracy vs. Number of Estimators in RandomForest\")\n",
    "plt.grid()\n",
    "plt.show()"
   ]
  },
  {
   "cell_type": "code",
   "execution_count": 9,
   "id": "91ce31e1",
   "metadata": {},
   "outputs": [
    {
     "name": "stdout",
     "output_type": "stream",
     "text": [
      "Best n_estimators: 1350 with accuracy: 83.16%\n",
      "Classification Report for the best model:\n",
      "                 precision    recall  f1-score   support\n",
      "\n",
      " baseball_pitch       0.75      0.57      0.65        42\n",
      " baseball_swing       0.73      0.86      0.79        43\n",
      "    bench_press       0.97      0.89      0.93        35\n",
      "           bowl       0.91      0.93      0.92        55\n",
      " clean_and_jerk       0.95      0.82      0.88        22\n",
      "     golf_swing       0.76      0.76      0.76        42\n",
      "      jump_rope       0.83      0.75      0.79        20\n",
      "  jumping_jacks       0.79      0.93      0.85        28\n",
      "         pullup       0.96      0.94      0.95        50\n",
      "         pushup       1.00      0.98      0.99        53\n",
      "          situp       0.96      0.92      0.94        25\n",
      "          squat       0.88      0.90      0.89        58\n",
      "   strum_guitar       0.96      0.96      0.96        23\n",
      "tennis_forehand       0.59      0.56      0.58        39\n",
      "   tennis_serve       0.58      0.68      0.63        47\n",
      "\n",
      "       accuracy                           0.83       582\n",
      "      macro avg       0.84      0.83      0.83       582\n",
      "   weighted avg       0.84      0.83      0.83       582\n",
      "\n"
     ]
    }
   ],
   "source": [
    "#classification report for the best model\n",
    "print(f\"Best n_estimators: {best_n} with accuracy: {best_accuracy*100:.2f}%\")\n",
    "print(\"Classification Report for the best model:\")\n",
    "print(classification_report(y_test, best_y_pred, target_names=label_encoder.classes_))"
   ]
  },
  {
   "cell_type": "markdown",
   "id": "d54a6402",
   "metadata": {},
   "source": [
    "# Addressing class label imbalance in samples"
   ]
  },
  {
   "cell_type": "markdown",
   "id": "d2e4bcf5",
   "metadata": {},
   "source": [
    "### Model 3. Adding balance parameter"
   ]
  },
  {
   "cell_type": "markdown",
   "id": "8e06cc9e",
   "metadata": {},
   "source": [
    "Cost-Sensitive Learning: Assigns higher penalties to misclassifications of minority classes"
   ]
  },
  {
   "cell_type": "code",
   "execution_count": 10,
   "id": "0d964fff",
   "metadata": {},
   "outputs": [
    {
     "data": {
      "image/png": "[encoded data removed]",
      "text/plain": [
       "<Figure size 720x432 with 1 Axes>"
      ]
     },
     "metadata": {
      "needs_background": "light"
     },
     "output_type": "display_data"
    }
   ],
   "source": [
    "#define the range of n_estimators to test\n",
    "n_estimators_range = range(50, 1650, 100)\n",
    "accuracies = []\n",
    "best_accuracy = 0\n",
    "best_n = 0\n",
    "best_y_pred = None #store best preditctions\n",
    "\n",
    "for n in n_estimators_range:\n",
    "    \n",
    "    rf_balanced = RandomForestClassifier(class_weight='balanced', random_state=37, n_estimators=n)\n",
    "    rf_balanced.fit(X_train, y_train)\n",
    "\n",
    "    #make predictions\n",
    "    y_pred = rf_balanced.predict(X_test)\n",
    "    accuracy = accuracy_score(y_test, y_pred)\n",
    "    accuracies.append(accuracy)\n",
    "    \n",
    "    #check if this is the best accuracy so far\n",
    "    if accuracy > best_accuracy:\n",
    "        best_accuracy = accuracy\n",
    "        best_n = n\n",
    "        best_y_pred = y_pred\n",
    "\n",
    "\n",
    "plt.figure(figsize=(10, 6))\n",
    "plt.plot(n_estimators_range, accuracies, marker='o')\n",
    "plt.xlabel(\"Number of Estimators (n_estimators)\")\n",
    "plt.ylabel(\"Accuracy\")\n",
    "plt.title(\"Accuracy vs. Number of Estimators in RandomForest\")\n",
    "plt.grid()\n",
    "plt.show()"
   ]
  },
  {
   "cell_type": "code",
   "execution_count": 11,
   "id": "8db24071",
   "metadata": {},
   "outputs": [
    {
     "name": "stdout",
     "output_type": "stream",
     "text": [
      "Best n_estimators: 1350 with accuracy: 82.30%\n",
      "Classification Report for the best model:\n",
      "                 precision    recall  f1-score   support\n",
      "\n",
      " baseball_pitch       0.68      0.55      0.61        42\n",
      " baseball_swing       0.71      0.86      0.78        43\n",
      "    bench_press       0.97      0.89      0.93        35\n",
      "           bowl       0.88      0.96      0.92        55\n",
      " clean_and_jerk       0.94      0.77      0.85        22\n",
      "     golf_swing       0.78      0.74      0.76        42\n",
      "      jump_rope       0.82      0.70      0.76        20\n",
      "  jumping_jacks       0.83      0.89      0.86        28\n",
      "         pullup       0.96      0.94      0.95        50\n",
      "         pushup       0.91      0.98      0.95        53\n",
      "          situp       0.96      0.88      0.92        25\n",
      "          squat       0.89      0.88      0.89        58\n",
      "   strum_guitar       0.96      0.96      0.96        23\n",
      "tennis_forehand       0.63      0.56      0.59        39\n",
      "   tennis_serve       0.58      0.68      0.63        47\n",
      "\n",
      "       accuracy                           0.82       582\n",
      "      macro avg       0.83      0.82      0.82       582\n",
      "   weighted avg       0.83      0.82      0.82       582\n",
      "\n"
     ]
    }
   ],
   "source": [
    "#classification report for the best n model\n",
    "print(f\"Best n_estimators: {best_n} with accuracy: {best_accuracy*100:.2f}%\")\n",
    "print(\"Classification Report for the best model:\")\n",
    "print(classification_report(y_test, best_y_pred, target_names=label_encoder.classes_))"
   ]
  },
  {
   "cell_type": "markdown",
   "id": "d737e780",
   "metadata": {},
   "source": [
    "# Feature Importance Analysis"
   ]
  },
  {
   "cell_type": "markdown",
   "id": "2d9bb7a1",
   "metadata": {},
   "source": [
    "### Model 2 has best accuracy at 83.16%, so we'll do the analysis on that model"
   ]
  },
  {
   "cell_type": "code",
   "execution_count": 12,
   "id": "006b4a0a",
   "metadata": {},
   "outputs": [
    {
     "name": "stdout",
     "output_type": "stream",
     "text": [
      "                   Feature  Importance\n",
      "16            left_wrist_y    0.077970\n",
      "19           right_wrist_y    0.068598\n",
      "1                   head_y    0.059048\n",
      "7         right_shoulder_y    0.043791\n",
      "4          left_shoulder_y    0.038343\n",
      "31            right_knee_y    0.037947\n",
      "37           right_ankle_y    0.036915\n",
      "13           right_elbow_y    0.036180\n",
      "34            left_ankle_y    0.035690\n",
      "28             left_knee_y    0.035404\n",
      "10            left_elbow_y    0.034959\n",
      "18           right_wrist_x    0.033715\n",
      "22              left_hip_y    0.032405\n",
      "15            left_wrist_x    0.031114\n",
      "25             right_hip_y    0.030467\n",
      "36           right_ankle_x    0.028992\n",
      "33            left_ankle_x    0.028551\n",
      "9             left_elbow_x    0.026064\n",
      "6         right_shoulder_x    0.024850\n",
      "0                   head_x    0.024317\n",
      "27             left_knee_x    0.024275\n",
      "3          left_shoulder_x    0.023848\n",
      "30            right_knee_x    0.023470\n",
      "12           right_elbow_x    0.022927\n",
      "21              left_hip_x    0.022411\n",
      "24             right_hip_x    0.020298\n",
      "20     right_wrist_visible    0.015940\n",
      "17      left_wrist_visible    0.014917\n",
      "14     right_elbow_visible    0.009978\n",
      "35      left_ankle_visible    0.009320\n",
      "26       right_hip_visible    0.007673\n",
      "38     right_ankle_visible    0.007532\n",
      "8   right_shoulder_visible    0.006422\n",
      "5    left_shoulder_visible    0.005468\n",
      "11      left_elbow_visible    0.004937\n",
      "32      right_knee_visible    0.004594\n",
      "23        left_hip_visible    0.004131\n",
      "29       left_knee_visible    0.003281\n",
      "2             head_visible    0.003261\n"
     ]
    },
    {
     "data": {
      "image/png": "[encoded data removed]",
      "text/plain": [
       "<Figure size 720x432 with 1 Axes>"
      ]
     },
     "metadata": {
      "needs_background": "light"
     },
     "output_type": "display_data"
    }
   ],
   "source": [
    "feature_importances = rf2.feature_importances_\n",
    "\n",
    "feature_df = pd.DataFrame({\n",
    "    'Feature': X_train.columns,\n",
    "    'Importance': feature_importances\n",
    "}).sort_values(by='Importance', ascending=False)\n",
    "\n",
    "print(feature_df)\n",
    "\n",
    "plt.figure(figsize=(10, 6))\n",
    "plt.barh(feature_df['Feature'], feature_df['Importance'], color='skyblue')\n",
    "plt.gca().invert_yaxis()  \n",
    "plt.title('Feature Importance')\n",
    "plt.xlabel('Importance Score')\n",
    "plt.show()\n"
   ]
  },
  {
   "cell_type": "code",
   "execution_count": 13,
   "id": "6612c3be",
   "metadata": {},
   "outputs": [
    {
     "name": "stdout",
     "output_type": "stream",
     "text": [
      "Selected Features: Index(['head_x', 'head_y', 'left_shoulder_y', 'right_shoulder_x',\n",
      "       'right_shoulder_y', 'left_elbow_x', 'left_elbow_y', 'right_elbow_y',\n",
      "       'left_wrist_x', 'left_wrist_y', 'right_wrist_x', 'right_wrist_y',\n",
      "       'left_hip_y', 'right_hip_y', 'left_knee_y', 'right_knee_y',\n",
      "       'left_ankle_x', 'left_ankle_y', 'right_ankle_x', 'right_ankle_y'],\n",
      "      dtype='object')\n"
     ]
    }
   ],
   "source": [
    "from sklearn.feature_selection import SelectFromModel\n",
    "\n",
    "# select features \n",
    "selector = SelectFromModel(rf2, threshold='median') \n",
    "selector.fit(X_train, y_train)\n",
    "\n",
    "X_train_selected = selector.transform(X_train)\n",
    "X_test_selected = selector.transform(X_test)\n",
    "\n",
    "# selected feature names\n",
    "selected_features = X_train.columns[selector.get_support()]\n",
    "print(\"Selected Features:\", selected_features)"
   ]
  },
  {
   "cell_type": "code",
   "execution_count": 14,
   "id": "d4c4c44f",
   "metadata": {},
   "outputs": [
    {
     "name": "stdout",
     "output_type": "stream",
     "text": [
      "Accuracy with Selected Features: 0.8058419243986255\n"
     ]
    }
   ],
   "source": [
    "# new RandomForestClassifier based on the selected features\n",
    "rf_selected = RandomForestClassifier(n_estimators=1350, random_state=37)\n",
    "rf_selected.fit(X_train_selected, y_train)\n",
    "\n",
    "y_pred = rf_selected.predict(X_test_selected)\n",
    "\n",
    "accuracy = accuracy_score(y_test, y_pred)\n",
    "print(\"Accuracy with Selected Features:\", accuracy)\n"
   ]
  },
  {
   "cell_type": "markdown",
   "id": "9c6d7d0a",
   "metadata": {},
   "source": [
    "### Training with selected features did not improve accuracy beyond the initital model. However, this makes sense in the context of the problem because you realistically need the information of as many joints as possible for better activity classification. Also, none of the features had particularly high importance so this doesnt really support dropping any of them."
   ]
  },
  {
   "cell_type": "markdown",
   "id": "accf7dc2",
   "metadata": {},
   "source": [
    "# Random CV search"
   ]
  },
  {
   "cell_type": "code",
   "execution_count": 15,
   "id": "e9273b27",
   "metadata": {},
   "outputs": [
    {
     "name": "stdout",
     "output_type": "stream",
     "text": [
      "Fitting 3 folds for each of 30 candidates, totalling 90 fits\n",
      "Best Parameters: {'n_estimators': 1200, 'min_samples_split': 5, 'min_samples_leaf': 1, 'max_depth': None, 'bootstrap': False}\n",
      "Best Score: 0.7276390786513752\n",
      "Test Accuracy: 0.8213\n"
     ]
    }
   ],
   "source": [
    "# parameter distribution\n",
    "param_dist = {\n",
    "    'n_estimators': [300,600,900,1200,1500],\n",
    "    'max_depth': [None, 10, 20, 30],\n",
    "    'min_samples_split': [2, 5, 7],\n",
    "    'min_samples_leaf': [1, 2, 4],\n",
    "    'bootstrap': [True, False]\n",
    "}\n",
    "\n",
    "#initialize random search\n",
    "random_search = RandomizedSearchCV(estimator=rf2, param_distributions=param_dist, \n",
    "                                   n_iter=30, cv=3, n_jobs=-1, scoring='accuracy', verbose=1, random_state=37)\n",
    "\n",
    "random_search.fit(X_train, y_train)\n",
    "\n",
    "# get best parameters and best score\n",
    "print(\"Best Parameters:\", random_search.best_params_)\n",
    "print(\"Best Score:\", random_search.best_score_)\n",
    "\n",
    "# evaluate the best model on the test set\n",
    "best_rf_model = random_search.best_estimator_\n",
    "y_pred = best_rf_model.predict(X_test)\n",
    "test_accuracy = accuracy_score(y_test, y_pred)\n",
    "print(f\"Test Accuracy: {test_accuracy:.4f}\")"
   ]
  },
  {
   "cell_type": "markdown",
   "id": "3e0821e8",
   "metadata": {},
   "source": [
    "Accuracy not improved over model 2. "
   ]
  },
  {
   "cell_type": "markdown",
   "id": "b1936e7c",
   "metadata": {},
   "source": [
    "# Confustion Matrix"
   ]
  },
  {
   "cell_type": "code",
   "execution_count": 16,
   "id": "8a0be90a",
   "metadata": {},
   "outputs": [],
   "source": [
    "#Best Model\n",
    "rf2 = RandomForestClassifier(n_estimators=1350, random_state=37)\n",
    "rf2.fit(X_train, y_train)\n",
    "    \n",
    "y_pred = rf2.predict(X_test)\n",
    "accuracy = accuracy_score(y_test, y_pred)"
   ]
  },
  {
   "cell_type": "code",
   "execution_count": 17,
   "id": "8422f824",
   "metadata": {},
   "outputs": [
    {
     "data": {
      "image/png": "[encoded data removed]",
      "text/plain": [
       "<Figure size 576x576 with 2 Axes>"
      ]
     },
     "metadata": {
      "needs_background": "light"
     },
     "output_type": "display_data"
    },
    {
     "name": "stdout",
     "output_type": "stream",
     "text": [
      "                 precision    recall  f1-score   support\n",
      "\n",
      " baseball_pitch       0.75      0.57      0.65        42\n",
      " baseball_swing       0.73      0.86      0.79        43\n",
      "    bench_press       0.97      0.89      0.93        35\n",
      "           bowl       0.91      0.93      0.92        55\n",
      " clean_and_jerk       0.95      0.82      0.88        22\n",
      "     golf_swing       0.76      0.76      0.76        42\n",
      "      jump_rope       0.83      0.75      0.79        20\n",
      "  jumping_jacks       0.79      0.93      0.85        28\n",
      "         pullup       0.96      0.94      0.95        50\n",
      "         pushup       1.00      0.98      0.99        53\n",
      "          situp       0.96      0.92      0.94        25\n",
      "          squat       0.88      0.90      0.89        58\n",
      "   strum_guitar       0.96      0.96      0.96        23\n",
      "tennis_forehand       0.59      0.56      0.58        39\n",
      "   tennis_serve       0.58      0.68      0.63        47\n",
      "\n",
      "       accuracy                           0.83       582\n",
      "      macro avg       0.84      0.83      0.83       582\n",
      "   weighted avg       0.84      0.83      0.83       582\n",
      "\n",
      "Accuracy: 83.16%\n"
     ]
    }
   ],
   "source": [
    "from sklearn.metrics import confusion_matrix, ConfusionMatrixDisplay\n",
    "import matplotlib.pyplot as plt\n",
    "\n",
    "cm = confusion_matrix(y_test, y_pred, labels=rf2.classes_)\n",
    "\n",
    "disp = ConfusionMatrixDisplay(confusion_matrix=cm, display_labels=label_encoder.classes_)\n",
    "\n",
    "fig, ax = plt.subplots(figsize=(8, 8))  \n",
    "disp.plot(cmap='Blues', ax=ax)\n",
    "plt.xticks(rotation=90)\n",
    "plt.title('Confusion Matrix')\n",
    "plt.show()\n",
    "\n",
    "# classification Report\n",
    "from sklearn.metrics import classification_report\n",
    "print(classification_report(y_test, y_pred, target_names=label_encoder.classes_))\n",
    "print(f\"Accuracy: {accuracy*100:.2f}%\")"
   ]
  }
 ],
 "metadata": {
  "kernelspec": {
   "display_name": "Python 3",
   "language": "python",
   "name": "python3"
  },
  "language_info": {
   "codemirror_mode": {
    "name": "ipython",
    "version": 3
   },
   "file_extension": ".py",
   "mimetype": "text/x-python",
   "name": "python",
   "nbconvert_exporter": "python",
   "pygments_lexer": "ipython3",
   "version": "3.8.8"
  }
 },
 "nbformat": 4,
 "nbformat_minor": 5
}
