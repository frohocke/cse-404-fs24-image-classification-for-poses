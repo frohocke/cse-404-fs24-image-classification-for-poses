{
 "cells": [
  {
   "cell_type": "code",
   "execution_count": 3,
   "id": "bb1b974b-3127-4310-a1de-608acc8647be",
   "metadata": {},
   "outputs": [],
   "source": [
    "import torch\n",
    "import torch.nn as nn\n",
    "import torch.nn.functional as F\n",
    "import torch.optim as optim\n",
    "from torch.utils.data import DataLoader, Dataset\n",
    "from torchvision import transforms\n",
    "from PIL import Image\n",
    "import os\n",
    "from scipy.io import loadmat\n",
    "from torchvision.transforms import ToTensor\n",
    "import numpy as np\n",
    "\n",
    "import matplotlib.pyplot as plt"
   ]
  },
  {
   "cell_type": "code",
   "execution_count": 4,
   "id": "a3a27fb3",
   "metadata": {},
   "outputs": [],
   "source": [
    "# hypothetical new dataset class with both types of data\n",
    "\n",
    "ACTION_MAP = {\n",
    "    'baseball_pitch': 0, 'baseball_swing': 1, 'bench_press': 2, 'bowl': 3,\n",
    "    'clean_and_jerk': 4, 'golf_swing': 5, 'jump_rope': 6, 'jumping_jacks': 7,\n",
    "    'pullup': 8, 'pushup': 9, 'situp': 10, 'squat': 11,\n",
    "    'strum_guitar': 12, 'tennis_forehand': 13, 'tennis_serve': 14\n",
    "}\n",
    "\n",
    "# map of all joints\n",
    "Joint_Map = {\"head\" : 0,\"left_shoulder\" : 1,\"right_shoulder\" : 2,\"left_elbow\" : 3,\n",
    "          \"right_elbow\" : 4,\"left_wrist\" : 5,\"right_wrist\" : 6,\"left_hip\" : 7,\"right_hip\" : 8,\n",
    "          \"left_knee\" : 9,\"right_knee\" : 10,\"left_ankle\" : 11,\"right_ankle\" : 12}\n",
    "\n",
    "class TestBothDataPennActionDataset(Dataset):\n",
    "    def __init__(self, frames_dir, labels_dir, transform=None,test=-1):\n",
    "        self.frames_dir = frames_dir\n",
    "        self.labels_dir = labels_dir\n",
    "        self.transform = transform\n",
    "        self.frame_paths = []\n",
    "        self.action_labels = []\n",
    "        self.joint_labels = []\n",
    "        self.datacount = {\n",
    "    'baseball_pitch': 0, 'baseball_swing': 0, 'bench_press': 0, 'bowl': 0,\n",
    "    'clean_and_jerk': 0, 'golf_swing': 0, 'jump_rope': 0, 'jumping_jacks': 0,\n",
    "    'pullup': 0, 'pushup': 0, 'situp': 0, 'squat': 0,\n",
    "    'strum_guitar': 0, 'tennis_forehand': 0, 'tennis_serve': 0\n",
    "}\n",
    "        self.count = 0\n",
    "        image_sequence_folders = sorted(os.listdir(frames_dir))\n",
    "        \n",
    "        for seq_folder in image_sequence_folders:\n",
    "            if seq_folder != \".DS_Store\":\n",
    "                seq_frames_path = os.path.join(frames_dir, seq_folder)\n",
    "                frames = sorted(os.listdir(seq_frames_path))\n",
    "                if frames[0] == \".DS_Store\":\n",
    "                    frames.remove(\".DS_Store\")\n",
    "\n",
    "                sampled_frames = frames[::40]\n",
    "                for frame in sampled_frames:\n",
    "                    frame_path = os.path.join(seq_frames_path, frame)\n",
    "\n",
    "                    label_path = os.path.join(labels_dir, seq_folder + '.mat')\n",
    "                    mat = loadmat(label_path)\n",
    "                    if(int(mat[\"train\"][0][0]) != test):\n",
    "                        continue\n",
    "                    \n",
    "                    self.frame_paths.append(frame_path)\n",
    "                    \n",
    "                    annotation = [[float(mat[\"x\"][0][i]), float(mat[\"y\"][0][i]), float(mat[\"visibility\"][0][i])] for i in\n",
    "                            range(len(Joint_Map))]\n",
    "                    action_label = mat['action'][0]\n",
    "\n",
    "                    # need to work on this\n",
    "                    self.joint_labels.append(annotation)\n",
    "                    self.datacount[action_label] += 1\n",
    "                    self.count += 1\n",
    "                    \n",
    "                    self.action_labels.append(ACTION_MAP[action_label])\n",
    "    \n",
    "    def __getitem__(self, idx):\n",
    "        img_path = self.frame_paths[idx]\n",
    "        img = Image.open(img_path)\n",
    "        annotation = self.joint_labels[idx]\n",
    "        if self.transform:\n",
    "            img = self.transform(img)\n",
    "        annotation = torch.tensor(annotation)\n",
    "        label = torch.tensor(self.action_labels[idx])\n",
    "        return [img,annotation], label\n",
    "\n",
    "    def __len__(self):\n",
    "        return len(self.frame_paths)"
   ]
  },
  {
   "cell_type": "code",
   "execution_count": null,
   "id": "6d50516a-6113-4c7e-86ec-133ffce664a0",
   "metadata": {},
   "outputs": [],
   "source": [
    "\n"
   ]
  },
  {
   "cell_type": "code",
   "execution_count": null,
   "id": "f04f37c3",
   "metadata": {},
   "outputs": [],
   "source": []
  },
  {
   "cell_type": "code",
   "execution_count": 5,
   "id": "b7e4afa4",
   "metadata": {},
   "outputs": [],
   "source": [
    "# joint_training_data = PENNDataset(\n",
    "#     csv_file  = \"../Penn_Action/TrainTable.csv\",\n",
    "#     root_dir=\"root\",\n",
    "#     transform=ToTensor()\n",
    "# )\n",
    "# join_test_data = PENNDataset(\n",
    "#     csv_file = \"../Penn_Action/TrainTable.csv\",\n",
    "#     root_dir=\"root\",\n",
    "#     transform=ToTensor()\n",
    "# )"
   ]
  },
  {
   "cell_type": "code",
   "execution_count": 6,
   "id": "09ffb554-c6f6-4716-9551-20eedd5635ae",
   "metadata": {},
   "outputs": [
    {
     "name": "stdout",
     "output_type": "stream",
     "text": [
      "{'baseball_pitch': 271, 'baseball_swing': 183, 'bench_press': 182, 'bowl': 263, 'clean_and_jerk': 306, 'golf_swing': 178, 'jump_rope': 63, 'jumping_jacks': 57, 'pullup': 241, 'pushup': 183, 'situp': 130, 'squat': 306, 'strum_guitar': 76, 'tennis_forehand': 143, 'tennis_serve': 238}\n",
      "2820\n",
      "{'baseball_pitch': 170, 'baseball_swing': 90, 'bench_press': 178, 'bowl': 176, 'clean_and_jerk': 334, 'golf_swing': 152, 'jump_rope': 71, 'jumping_jacks': 56, 'pullup': 203, 'pushup': 187, 'situp': 135, 'squat': 339, 'strum_guitar': 70, 'tennis_forehand': 124, 'tennis_serve': 142}\n",
      "2427\n",
      "5247\n"
     ]
    }
   ],
   "source": [
    "# Convert to Tensor \n",
    "transform = transforms.Compose([\n",
    "    transforms.Resize((224, 224)),\n",
    "    transforms.ToTensor(),\n",
    "    transforms.Normalize(mean=[0.485, 0.456, 0.406], std=[0.229, 0.224, 0.225]) # ImageNet normalize\n",
    "])\n",
    "\n",
    "# Load dataset\n",
    "frames_dir = \"../Step6/Penn_Action/frames\"\n",
    "labels_dir = \"../Step6/Penn_Action/labels\"\n",
    "\n",
    "traindataset = TestBothDataPennActionDataset(frames_dir, labels_dir, transform=transform,test=1)\n",
    "print(traindataset.datacount)\n",
    "print(traindataset.count)\n",
    "testdataset = TestBothDataPennActionDataset(frames_dir, labels_dir, transform=transform,test=-1)\n",
    "print(testdataset.datacount)\n",
    "print(testdataset.count)\n",
    "print(traindataset.count + testdataset.count)"
   ]
  },
  {
   "cell_type": "code",
   "execution_count": null,
   "id": "c296f4a5",
   "metadata": {},
   "outputs": [],
   "source": []
  },
  {
   "cell_type": "code",
   "execution_count": 12,
   "id": "bd7795c8",
   "metadata": {},
   "outputs": [],
   "source": [
    "class PartiallyConnectedCNN(nn.Module):\n",
    "    def __init__(self):\n",
    "        super(PartiallyConnectedCNN, self).__init__()\n",
    "        self.flatten = nn.Flatten()\n",
    "        self.image_conv_relu_stack = nn.Sequential(\n",
    "            nn.Conv2d(3, 16, kernel_size=5, padding=2),\n",
    "            nn.ReLU(),\n",
    "            nn.Conv2d(16, 32, kernel_size=3, padding=1),\n",
    "            nn.ReLU(),\n",
    "            nn.MaxPool2d(2, 2),\n",
    "            nn.ReLU(),\n",
    "            \n",
    "        )\n",
    "        self.image_linear_stack = nn.Sequential(\n",
    "            nn.Linear(401408 , 128),\n",
    "            nn.Sigmoid(),\n",
    "            nn.Linear(128, 32),\n",
    "            nn.Sigmoid(),\n",
    "            nn.Linear(32, 15),\n",
    "            nn.LogSoftmax(dim=0)\n",
    "        )\n",
    "        self.joint_conv_relu_stack = nn.Sequential(\n",
    "                                               nn.Conv1d(in_channels=13, out_channels=39, kernel_size = 1),\n",
    "                                               nn.ReLU(),\n",
    "                                               \n",
    "                                                nn.Conv1d(in_channels=39, out_channels=39, kernel_size = 1),\n",
    "                                               nn.ReLU(),\n",
    "                                               nn.Conv1d(in_channels=39, out_channels=39, kernel_size = 1),\n",
    "                                               nn.ReLU()\n",
    "        )\n",
    "        self.joint_linear = nn.Sequential(nn.Linear(117,512),\n",
    "                                        nn.Sigmoid(),\n",
    "                                        nn.Linear(512,15),\n",
    "                                        nn.LogSoftmax(dim=0))\n",
    "        self.combined_linear = nn.Sequential(\n",
    "            nn.Linear(30,15),\n",
    "        )\n",
    "\n",
    "\n",
    "    def forward(self, input):\n",
    "        x = input[0]\n",
    "        y = input[1]\n",
    "        \n",
    "        x = self.image_conv_relu_stack(x)\n",
    "        x = self.flatten(x)\n",
    "        x = self.image_linear_stack(x)\n",
    "        y = self.joint_conv_relu_stack(y)\n",
    "        y = self.flatten(y)\n",
    "        y = self.joint_linear(y)\n",
    "        final = torch.cat((x,y),dim=1)\n",
    "        self.combined_linear(final);\n",
    "\n",
    "        \n",
    "        return final"
   ]
  },
  {
   "cell_type": "code",
   "execution_count": 13,
   "id": "6657ade0-021f-4854-ab8a-7998d318d43a",
   "metadata": {},
   "outputs": [
    {
     "name": "stdout",
     "output_type": "stream",
     "text": [
      "Using device: cpu\n"
     ]
    }
   ],
   "source": [
    "\n",
    "# Data loaders\n",
    "train_loader = DataLoader(traindataset, batch_size=32, shuffle=True)\n",
    "test_loader = DataLoader(testdataset, batch_size=32, shuffle=False)\n",
    "\n",
    "device = torch.device(\"cuda\" if torch.cuda.is_available() else \"cpu\")\n",
    "print(f\"Using device: {device}\")\n",
    "\n",
    "model = PartiallyConnectedCNN().to(device)"
   ]
  },
  {
   "cell_type": "code",
   "execution_count": 14,
   "id": "9cf9c075-7f8f-42c8-b4ba-bc1674f4734c",
   "metadata": {},
   "outputs": [],
   "source": [
    "# Cross-entropy loss as the loss function\n",
    "loss_fn = nn.CrossEntropyLoss()\n",
    "\n",
    "#optimizer = optim.SGD(model.parameters(), lr=0.01)\n",
    "optimizer = optim.Adam(model.parameters(), lr=0.001)"
   ]
  },
  {
   "cell_type": "code",
   "execution_count": 15,
   "id": "5b07633c",
   "metadata": {},
   "outputs": [],
   "source": [
    "train_losses = []\n",
    "test_accuracies = []"
   ]
  },
  {
   "cell_type": "code",
   "execution_count": null,
   "id": "608df1ef-6ca0-4b6e-8cf5-bf81ddd3b9ad",
   "metadata": {},
   "outputs": [
    {
     "name": "stdout",
     "output_type": "stream",
     "text": [
      "Epoch 1/30,TrainLoss: 2.9190, TTrainAccuracy: 21.06% TestLoss: 3.1576, TestAccuracy: 9.48% \n",
      "Epoch 2/30,TrainLoss: 2.4051, TTrainAccuracy: 37.13% TestLoss: 3.2216, TestAccuracy: 10.26% \n",
      "Epoch 3/30,TrainLoss: 1.9334, TTrainAccuracy: 56.10% TestLoss: 3.3161, TestAccuracy: 12.15% \n",
      "Epoch 4/30,TrainLoss: 1.5296, TTrainAccuracy: 70.07% TestLoss: 3.3989, TestAccuracy: 11.91% \n",
      "Epoch 5/30,TrainLoss: 1.2291, TTrainAccuracy: 77.59% TestLoss: 3.5743, TestAccuracy: 12.11% \n",
      "Epoch 6/30,TrainLoss: 0.9975, TTrainAccuracy: 81.35% TestLoss: 3.6848, TestAccuracy: 11.91% \n"
     ]
    }
   ],
   "source": [
    "testing = True\n",
    "epochs = 15\n",
    "for epoch in range(epochs):\n",
    "    running_loss = 0.0\n",
    "    correct = 0\n",
    "    total = 0\n",
    "    \n",
    "    model.train()\n",
    "        \n",
    "\n",
    "        # training \n",
    "    for inputs, labels in train_loader:\n",
    "        #inputs, labels = inputs.to(device), labels.to(device)\n",
    "\n",
    "        # backpropagation \n",
    "        optimizer.zero_grad()\n",
    "        outputs = model(inputs)\n",
    "        loss = loss_fn(outputs, labels)\n",
    "        loss.backward()\n",
    "        optimizer.step()  # weight update \n",
    "    \n",
    "        running_loss += loss.item()\n",
    "        _, predicted = torch.max(outputs, 1)\n",
    "        total += labels.size(0)\n",
    "        correct += (predicted == labels).sum().item()\n",
    "\n",
    "    # testing \n",
    "    # Set model to eval mode \n",
    "    model.eval()\n",
    "    val_loss = 0.0\n",
    "    val_correct = 0\n",
    "    val_total = 0\n",
    "\n",
    "    with torch.no_grad():\n",
    "        for inputs, labels in test_loader:\n",
    "            #inputs, labels = inputs.to(device), labels.to(device)\n",
    "            outputs = model(inputs)\n",
    "            loss = loss_fn(outputs, labels)\n",
    "            val_loss += loss.item()\n",
    "            _, predicted = torch.max(outputs, 1)\n",
    "            val_total += labels.size(0)\n",
    "            val_correct += (predicted == labels).sum().item()\n",
    "\n",
    "    train_losses.append(running_loss / len(train_loader))\n",
    "    test_accuracies.append(100 * val_correct / val_total)\n",
    "\n",
    "    print(f\"Epoch {epoch+1}/{epochs},TrainLoss: {running_loss/len(train_loader):.4f}, \"\n",
    "            f\"TTrainAccuracy: {100 * correct/total:.2f}% TestLoss: {val_loss/len(test_loader):.4f}, \"\n",
    "            f\"TestAccuracy: {100 * val_correct/val_total:.2f}% \")\n"
   ]
  },
  {
   "cell_type": "code",
   "execution_count": 31,
   "id": "8bb0d5a5-f4c7-4944-8cf5-dfde6935aef9",
   "metadata": {},
   "outputs": [
    {
     "data": {
      "image/png": "[encoded data removed]",
      "text/plain": [
       "<Figure size 1000x500 with 2 Axes>"
      ]
     },
     "metadata": {},
     "output_type": "display_data"
    }
   ],
   "source": [
    "# Plotting\n",
    "plt.figure(figsize=(10, 5))\n",
    "\n",
    "plt.subplot(1, 2, 1)\n",
    "plt.plot(range(len(train_losses)), train_losses, label='Train Loss', color='blue')\n",
    "plt.xlabel('Epoch')\n",
    "plt.ylabel('Loss')\n",
    "plt.title('Training Loss')\n",
    "plt.grid(True)\n",
    "\n",
    "plt.subplot(1, 2, 2)\n",
    "plt.plot(range(len(test_accuracies)), test_accuracies, label='Test Accuracy', color='red')\n",
    "plt.xlabel('Epoch')\n",
    "plt.ylabel('Accuracy (%)')\n",
    "plt.title('Test Accuracy')\n",
    "plt.grid(True)\n",
    "\n",
    "plt.tight_layout()\n",
    "plt.show()"
   ]
  },
  {
   "cell_type": "code",
   "execution_count": null,
   "id": "bcdda1c4-f960-47b3-a283-72704f8a6da4",
   "metadata": {},
   "outputs": [],
   "source": []
  }
 ],
 "metadata": {
  "kernelspec": {
   "display_name": "Python 3",
   "language": "python",
   "name": "python3"
  },
  "language_info": {
   "codemirror_mode": {
    "name": "ipython",
    "version": 3
   },
   "file_extension": ".py",
   "mimetype": "text/x-python",
   "name": "python",
   "nbconvert_exporter": "python",
   "pygments_lexer": "ipython3",
   "version": "3.12.2"
  }
 },
 "nbformat": 4,
 "nbformat_minor": 5
}
