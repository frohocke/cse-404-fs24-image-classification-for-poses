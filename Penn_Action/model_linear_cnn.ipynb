{
 "cells": [
  {
   "cell_type": "code",
   "execution_count": null,
   "metadata": {
    "id": "hR_Tm-m5RF81"
   },
   "outputs": [],
   "source": [
    "#This is a model on the joints using a cnn."
   ]
  },
  {
   "cell_type": "markdown",
   "metadata": {
    "id": "tbB1FKJoRDzU"
   },
   "source": [
    "Read Me:\n",
    "We are doing supervised learning\n",
    "\n",
    "We represent X using\n",
    "We represnt Y using a 15 data tensor.\n",
    "\n",
    "We are using the torchvision library.\n"
   ]
  },
  {
   "cell_type": "code",
   "execution_count": 1,
   "metadata": {
    "id": "VqQcI_ssRH7a"
   },
   "outputs": [],
   "source": [
    "import torchvision\n",
    "import torch\n",
    "import torch.nn as nn\n",
    "from torch.utils.data import Dataset\n",
    "from torch.utils.data import DataLoader\n",
    "from torchvision import datasets\n",
    "from torchvision.transforms import ToTensor\n",
    "from torchvision.io import read_image\n",
    "\n",
    "import pandas as pd\n",
    "import ast\n",
    "\n",
    "import matplotlib.pyplot as plt\n",
    "import numpy as np\n",
    "from IPython import display"
   ]
  },
  {
   "cell_type": "code",
   "execution_count": 2,
   "metadata": {
    "id": "o_3xjy_HVrCU"
   },
   "outputs": [],
   "source": [
    "class PENNDataset(Dataset):\n",
    "\n",
    "    def __init__(self, csv_file, root_dir, transform=None):\n",
    "        self.pose_annotations = pd.read_csv(csv_file)\n",
    "        self.root_dir = root_dir\n",
    "        self.transform = transform\n",
    "\n",
    "    def __len__(self):\n",
    "        return len(self.pose_annotations)\n",
    "\n",
    "    def __getitem__(self, idx):\n",
    "        row = self.pose_annotations.iloc[idx]\n",
    "        # Assuming the last column is the label\n",
    "        label = torch.tensor(row[-1], dtype=torch.long)\n",
    "        temp = [[float(y) for y in ast.literal_eval(x)] for x in row[:-1].values]\n",
    "        features = torch.tensor(temp)\n",
    "        return features, label"
   ]
  },
  {
   "cell_type": "code",
   "execution_count": null,
   "metadata": {
    "id": "Hb3mcrf6oITR"
   },
   "outputs": [],
   "source": []
  },
  {
   "cell_type": "code",
   "execution_count": 3,
   "metadata": {
    "id": "QmR23_JPes7u"
   },
   "outputs": [],
   "source": [
    "training_data = PENNDataset(\n",
    "    csv_file  = \"TrainTable.csv\",\n",
    "    root_dir=\"root\",\n",
    "    transform=ToTensor()\n",
    ")\n",
    "test_data = PENNDataset(\n",
    "    csv_file = \"TestTable.csv\",\n",
    "    root_dir=\"root\",\n",
    "    transform=ToTensor()\n",
    ")"
   ]
  },
  {
   "cell_type": "code",
   "execution_count": 69,
   "metadata": {
    "id": "YFzO9EvDi8XB"
   },
   "outputs": [
    {
     "name": "stdout",
     "output_type": "stream",
     "text": [
      "torch.Size([30, 13, 3])\n",
      "torch.Size([30])\n"
     ]
    },
    {
     "name": "stderr",
     "output_type": "stream",
     "text": [
      "C:\\Users\\ew21h\\AppData\\Local\\Temp\\ipykernel_17676\\2233561234.py:14: FutureWarning: Series.__getitem__ treating keys as positions is deprecated. In a future version, integer keys will always be treated as labels (consistent with DataFrame behavior). To access a value by position, use `ser.iloc[pos]`\n",
      "  label = torch.tensor(row[-1], dtype=torch.long)\n"
     ]
    }
   ],
   "source": [
    "batch_size = 30\n",
    "\n",
    "# Create train and test data loaders.\n",
    "train_dataloader = DataLoader(training_data,batch_size=batch_size)\n",
    "test_dataloader = DataLoader(test_data,batch_size=batch_size)\n",
    "\n",
    "\n",
    "for X, y in test_dataloader:\n",
    "    print(X.shape)\n",
    "    print(y.shape)\n",
    "    break"
   ]
  },
  {
   "cell_type": "code",
   "execution_count": 114,
   "metadata": {
    "colab": {
     "base_uri": "https://localhost:8080/"
    },
    "id": "L12LhgifR4EH",
    "outputId": "f2a46671-8a3d-4bc9-92fb-0527ad842cd5"
   },
   "outputs": [
    {
     "name": "stdout",
     "output_type": "stream",
     "text": [
      "NeuralNetwork(\n",
      "  (flatten): Flatten(start_dim=1, end_dim=-1)\n",
      "  (conv_relu_stack): Sequential(\n",
      "    (0): Conv1d(13, 39, kernel_size=(1,), stride=(1,))\n",
      "    (1): ReLU()\n",
      "    (2): Conv1d(39, 39, kernel_size=(1,), stride=(1,))\n",
      "    (3): ReLU()\n",
      "  )\n",
      "  (linear): Sequential(\n",
      "    (0): Linear(in_features=117, out_features=512, bias=True)\n",
      "    (1): Linear(in_features=512, out_features=15, bias=True)\n",
      "    (2): LogSoftmax(dim=1)\n",
      "  )\n",
      ")\n"
     ]
    }
   ],
   "source": [
    "class NeuralNetwork(nn.Module):\n",
    "    def __init__(self):\n",
    "        super(NeuralNetwork, self).__init__()\n",
    "        self.flatten = nn.Flatten()\n",
    "\n",
    "        self.conv_relu_stack = nn.Sequential(\n",
    "                                               nn.Conv1d(in_channels=13, out_channels=39, kernel_size = 1),\n",
    "                                               nn.ReLU(),\n",
    "                                               \n",
    "                                                nn.Conv1d(in_channels=39, out_channels=39, kernel_size = 1),\n",
    "                                               nn.ReLU()\n",
    "        )\n",
    "        self.linear = nn.Sequential(nn.Linear(117,512),\n",
    "                                    nn.Linear(512,15)\n",
    "                                    ,nn.LogSoftmax(dim=1))\n",
    "                                              \n",
    "\n",
    "\n",
    "\n",
    "    def forward(self, x):\n",
    "        x = self.conv_relu_stack(x)\n",
    "        x = self.flatten(x)\n",
    "        logits = self.linear(x)\n",
    "        \n",
    "        return logits\n",
    "\n",
    "device = \"cuda\" if torch.cuda.is_available() else \"cpu\"\n",
    "model = NeuralNetwork().to(device)\n",
    "print(model)"
   ]
  },
  {
   "cell_type": "code",
   "execution_count": 115,
   "metadata": {
    "id": "3TfTqEiOSsoK"
   },
   "outputs": [],
   "source": [
    "# Use cross-entropy loss as the loss function\n",
    "loss_fn = nn.CrossEntropyLoss()\n",
    "learning_rate = 1e-2\n",
    "\n",
    "# Define a pytorch optimizer using stochastic gradient descent (SGD)\n",
    "optimizer = torch.optim.SGD(model.parameters(),learning_rate)"
   ]
  },
  {
   "cell_type": "code",
   "execution_count": 116,
   "metadata": {
    "id": "g_vNF7QzV702"
   },
   "outputs": [],
   "source": [
    "import numpy as np\n",
    "def train(dataloader, model, loss_fn, optimizer):\n",
    "    size = len(dataloader.dataset)\n",
    "\n",
    "    model.train()\n",
    "\n",
    "    losses = []\n",
    "    for batch, (X, y) in enumerate(dataloader):\n",
    "        X = torch.nan_to_num(X, nan=0.0)\n",
    "        X = torch.where(torch.isinf(X), torch.full_like(X, 1e10), X)\n",
    "        X, y = X.to(device), y.to(device)\n",
    "\n",
    "        # Compute prediction error\n",
    "        pred = model(X)\n",
    "        \n",
    "        # Compute training loss\n",
    "        loss = loss_fn(pred,y)\n",
    "\n",
    "        # Backpropagation\n",
    "        optimizer.zero_grad()\n",
    "\n",
    "        # Calculate model gradients from the loss and optimize the network\n",
    "        loss.backward()\n",
    "        torch.nn.utils.clip_grad_norm_(model.parameters(), max_norm=1.0)\n",
    "        optimizer.step()\n",
    "\n",
    "        loss, current = loss.item(), batch * len(X)\n",
    "        if batch % 100 == 0:\n",
    "            print(f\"loss: {loss:>7f}  [{current:>5d}/{size:>5d}]\")\n",
    "        losses.append(loss)\n",
    "\n",
    "    return np.array(losses).mean()"
   ]
  },
  {
   "cell_type": "code",
   "execution_count": 117,
   "metadata": {
    "id": "wTZnJOamV8fM"
   },
   "outputs": [],
   "source": [
    "def test(dataloader, model, loss_fn):\n",
    "    size = len(dataloader.dataset)\n",
    "    num_batches = len(dataloader)\n",
    "\n",
    "    # Set the model to eval mode\n",
    "    model.eval()\n",
    "\n",
    "    test_loss, correct = 0, 0\n",
    "    with torch.no_grad():\t# no_grad mode doesn't compute gradients\n",
    "        for X, y in dataloader:\n",
    "            X, y = X.to(device), y.to(device)\n",
    "            pred = model(X)\t\t# compute predictions from X\n",
    "            test_loss += loss_fn(pred,y)\t# compute the test loss\n",
    "            correct += (pred.argmax(dim=1)==y).sum().item()\t\t# number of correct predictions\n",
    "    test_loss /= num_batches\n",
    "    correct /= size\n",
    "    print(f\"Test Error: \\n Accuracy: {(100*correct):>0.1f}%, Avg loss: {test_loss:>8f} \\n\")\n",
    "    return correct"
   ]
  },
  {
   "cell_type": "code",
   "execution_count": null,
   "metadata": {
    "colab": {
     "base_uri": "https://localhost:8080/",
     "height": 391
    },
    "id": "BEzwMrjoWJSg",
    "outputId": "52248601-3db0-4433-a181-58cea283b70b"
   },
   "outputs": [
    {
     "data": {
      "image/png": "[encoded data removed]",
      "text/plain": [
       "<Figure size 640x480 with 1 Axes>"
      ]
     },
     "metadata": {},
     "output_type": "display_data"
    },
    {
     "data": {
      "image/png": "[encoded data removed]",
      "text/plain": [
       "<Figure size 640x480 with 1 Axes>"
      ]
     },
     "metadata": {},
     "output_type": "display_data"
    },
    {
     "name": "stdout",
     "output_type": "stream",
     "text": [
      "Epoch 61\n",
      "-------------------------------\n",
      "loss: 2.704237  [    0/  801]\n"
     ]
    }
   ],
   "source": [
    "epochs = 150\n",
    "\n",
    "# for plotting the training loss\n",
    "history = {'losses': [], 'accuracies': []}\n",
    "for t in range(epochs):\n",
    "    print(f\"Epoch {t+1}\\n-------------------------------\")\n",
    "    history['losses'].append(train(train_dataloader, model, loss_fn, optimizer))\n",
    "    history['accuracies'].append(test(test_dataloader, model, loss_fn))\n",
    "    plt.clf()\n",
    "    fig1 = plt.figure()\n",
    "    plt.plot(history['losses'], 'r-', lw=2, label='loss')\n",
    "    plt.legend()\n",
    "    display.clear_output(wait=True)\n",
    "    display.display(plt.gcf())\n",
    "\n",
    "    plt.clf()\n",
    "    fig2 = plt.figure()\n",
    "    plt.plot(history['accuracies'], 'b-', lw=1, label='accuracy')\n",
    "    plt.legend()\n",
    "#     display.clear_output(wait=True)\n",
    "    display.display(plt.gcf())\n",
    "print(\"Done!\")"
   ]
  },
  {
   "cell_type": "code",
   "execution_count": null,
   "metadata": {
    "id": "dVpYb7wPWJ1U"
   },
   "outputs": [],
   "source": []
  },
  {
   "cell_type": "code",
   "execution_count": null,
   "metadata": {
    "id": "JF859z4IWKCz"
   },
   "outputs": [],
   "source": []
  },
  {
   "cell_type": "code",
   "execution_count": null,
   "metadata": {},
   "outputs": [],
   "source": []
  },
  {
   "cell_type": "code",
   "execution_count": null,
   "metadata": {},
   "outputs": [],
   "source": []
  }
 ],
 "metadata": {
  "colab": {
   "provenance": []
  },
  "kernelspec": {
   "display_name": "Python 3",
   "name": "python3"
  },
  "language_info": {
   "codemirror_mode": {
    "name": "ipython",
    "version": 3
   },
   "file_extension": ".py",
   "mimetype": "text/x-python",
   "name": "python",
   "nbconvert_exporter": "python",
   "pygments_lexer": "ipython3",
   "version": "3.12.2"
  }
 },
 "nbformat": 4,
 "nbformat_minor": 0
}
