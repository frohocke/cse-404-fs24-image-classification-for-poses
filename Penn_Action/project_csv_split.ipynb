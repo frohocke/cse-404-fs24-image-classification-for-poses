{
 "cells": [
  {
   "cell_type": "code",
   "execution_count": 1,
   "metadata": {},
   "outputs": [],
   "source": [
    "import csv\n",
    "input_file = 'InputTable.csv'\n",
    "output_file1 = 'TrainTable.csv'\n",
    "output_file2 = 'TestTable.csv'\n",
    "actions = {\"baseball_pitch\" : 0,  \"clean_and_jerk\": 1,  \"pullup\" : 2, \"strum_guitar\" : 3,\n",
    "\"baseball_swing\" : 4, \"golf_swing\" : 5, \"pushup\" : 6,  \"tennis_forehand\" : 7,\n",
    "\"bench_press\" : 8,  \"jumping_jacks\": 9,   \"situp\" : 10,   \"tennis_serve\" : 11,\n",
    "\"bowl\" : 12,  \"jump_rope\" : 13, \"squat\" : 14}\n",
    "\n",
    "with open(input_file, 'r') as infile, \\\n",
    "     open(output_file1, 'w', newline='') as outfile1, \\\n",
    "     open(output_file2, 'w', newline='') as outfile2:\n",
    "    reader = csv.reader(infile)\n",
    "    writer1 = csv.writer(outfile1)\n",
    "    writer2= csv.writer(outfile2)\n",
    "\n",
    "    header = next(reader)\n",
    "    writer1.writerow(header)\n",
    "    writer2.writerow(header)\n",
    "\n",
    "    for i, row in enumerate(reader):\n",
    "        if i%2:\n",
    "            action_name = row[-1]  # Last column\n",
    "            if action_name in actions:\n",
    "                row[-1] = actions[action_name]\n",
    "            if i%8==1:\n",
    "                writer2.writerow(row)\n",
    "            else:\n",
    "                writer1.writerow(row)\n",
    "        "
   ]
  },
  {
   "cell_type": "code",
   "execution_count": null,
   "metadata": {},
   "outputs": [],
   "source": []
  }
 ],
 "metadata": {
  "kernelspec": {
   "display_name": "Python 3",
   "language": "python",
   "name": "python3"
  },
  "language_info": {
   "codemirror_mode": {
    "name": "ipython",
    "version": 3
   },
   "file_extension": ".py",
   "mimetype": "text/x-python",
   "name": "python",
   "nbconvert_exporter": "python",
   "pygments_lexer": "ipython3",
   "version": "3.12.2"
  }
 },
 "nbformat": 4,
 "nbformat_minor": 2
}
